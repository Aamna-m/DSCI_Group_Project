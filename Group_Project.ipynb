{
 "cells": [
  {
   "cell_type": "markdown",
   "id": "9242d539-999b-4d49-830b-77c71fa1aff4",
   "metadata": {},
   "source": [
    "HIIIIIIII"
   ]
  },
  {
   "cell_type": "code",
   "execution_count": 3,
   "id": "21939953-7a45-4152-a29d-ee7f700e518d",
   "metadata": {},
   "outputs": [],
   "source": [
    "# Sanchia here!"
   ]
  },
  {
   "cell_type": "code",
   "execution_count": 4,
   "id": "a1266e61-6b2e-464d-9344-42837202abac",
   "metadata": {},
   "outputs": [],
   "source": [
    "# Stephanie is here"
   ]
  },
  {
   "cell_type": "code",
   "execution_count": null,
   "id": "22225d0f-e04c-4164-9be2-9b52f05a4ed3",
   "metadata": {},
   "outputs": [],
   "source": []
  }
 ],
 "metadata": {
  "kernelspec": {
   "display_name": "Python 3 (ipykernel)",
   "language": "python",
   "name": "python3"
  },
  "language_info": {
   "codemirror_mode": {
    "name": "ipython",
    "version": 3
   },
   "file_extension": ".py",
   "mimetype": "text/x-python",
   "name": "python",
   "nbconvert_exporter": "python",
   "pygments_lexer": "ipython3",
   "version": "3.11.9"
  }
 },
 "nbformat": 4,
 "nbformat_minor": 5
}
